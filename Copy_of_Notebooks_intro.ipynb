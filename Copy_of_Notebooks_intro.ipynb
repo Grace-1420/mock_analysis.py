{
  "nbformat": 4,
  "nbformat_minor": 0,
  "metadata": {
    "colab": {
      "provenance": [],
      "authorship_tag": "ABX9TyMpCfy2d1SbWDr9N/aJYkr4",
      "include_colab_link": true
    },
    "kernelspec": {
      "name": "python3",
      "display_name": "Python 3"
    },
    "language_info": {
      "name": "python"
    }
  },
  "cells": [
    {
      "cell_type": "markdown",
      "metadata": {
        "id": "view-in-github",
        "colab_type": "text"
      },
      "source": [
        "<a href=\"https://colab.research.google.com/github/Grace-1420/mock_analysis.py/blob/main/Copy_of_Notebooks_intro.ipynb\" target=\"_parent\"><img src=\"https://colab.research.google.com/assets/colab-badge.svg\" alt=\"Open In Colab\"/></a>"
      ]
    },
    {
      "cell_type": "code",
      "execution_count": null,
      "metadata": {
        "id": "nRUPKS90VsVk"
      },
      "outputs": [],
      "source": []
    },
    {
      "cell_type": "code",
      "source": [
        "import matplotlib.pyplot as plt\n",
        "import seaborn as sns\n",
        "import numpy as np\n",
        "import pandas as pd\n",
        "\n",
        "from io import StringIO\n",
        "\n",
        "data = StringIO(\"\"\"\n",
        "Customer ID,Age,Gender,Purchase Amount (USD),Product Category,Purchase Date,Country,Payment Method\n",
        "C001,25,Female,120.50,Electronics,2024-11-01,USA,Credit Card\n",
        "C002,31,Male,75.00,Books,2024-11-02,Canada,PayPal\n",
        "C003,22,Female,300.20,Fashion,2024-11-03,USA,Debit Card\n",
        "C004,40,Male,450.00,Electronics,2024-11-05,UK,Credit Card\n",
        "C005,29,Female,99.99,Cosmetics,2024-11-06,Germany,PayPal\n",
        "C006,35,Male,149.90,Fashion,2024-11-07,Canada,Credit Card\n",
        "C007,27,Female,199.00,Electronics,2024-11-08,USA,PayPal\n",
        "C008,42,Male,85.75,Books,2024-11-09,France,Debit Card\n",
        "C009,30,Female,210.40,Fashion,2024-11-10,UK,Credit Card\n",
        "C010,50,Male,400.00,Electronics,2024-11-11,USA,Debit Card\n",
        "\"\"\")\n",
        "\n",
        "df = pd.read_csv(data)\n",
        "df['Purchase Date'] = pd.to_datetime(df['Purchase Date'])  # convert date\n",
        "df = df.rename(columns={\"Product Category\" : \"Category\"})\n",
        "# print (df)\n",
        "# df['Gender'].value_counts().plot(kind='pie')\n",
        "# plt.title('PIE CHART OF GENDER DISTRIBUTION')\n",
        "# plt.savefig('PIE CHART OF GENDER DISTRIBUTION.png')\n",
        "# plt.show"
      ],
      "metadata": {
        "id": "82RqvR10G4Yx"
      },
      "execution_count": 2,
      "outputs": []
    },
    {
      "cell_type": "code",
      "source": [
        "df.groupby('Category')['Purchase Amount (USD)'].sum().sort_values(ascending = False)"
      ],
      "metadata": {
        "colab": {
          "base_uri": "https://localhost:8080/",
          "height": 241
        },
        "id": "YFmHe0pJVxe6",
        "outputId": "cfee4c6b-afd3-466a-8fa5-eac8e0e8586e"
      },
      "execution_count": 5,
      "outputs": [
        {
          "output_type": "execute_result",
          "data": {
            "text/plain": [
              "Category\n",
              "Electronics    1169.50\n",
              "Fashion         660.50\n",
              "Books           160.75\n",
              "Cosmetics        99.99\n",
              "Name: Purchase Amount (USD), dtype: float64"
            ],
            "text/html": [
              "<div>\n",
              "<style scoped>\n",
              "    .dataframe tbody tr th:only-of-type {\n",
              "        vertical-align: middle;\n",
              "    }\n",
              "\n",
              "    .dataframe tbody tr th {\n",
              "        vertical-align: top;\n",
              "    }\n",
              "\n",
              "    .dataframe thead th {\n",
              "        text-align: right;\n",
              "    }\n",
              "</style>\n",
              "<table border=\"1\" class=\"dataframe\">\n",
              "  <thead>\n",
              "    <tr style=\"text-align: right;\">\n",
              "      <th></th>\n",
              "      <th>Purchase Amount (USD)</th>\n",
              "    </tr>\n",
              "    <tr>\n",
              "      <th>Category</th>\n",
              "      <th></th>\n",
              "    </tr>\n",
              "  </thead>\n",
              "  <tbody>\n",
              "    <tr>\n",
              "      <th>Electronics</th>\n",
              "      <td>1169.50</td>\n",
              "    </tr>\n",
              "    <tr>\n",
              "      <th>Fashion</th>\n",
              "      <td>660.50</td>\n",
              "    </tr>\n",
              "    <tr>\n",
              "      <th>Books</th>\n",
              "      <td>160.75</td>\n",
              "    </tr>\n",
              "    <tr>\n",
              "      <th>Cosmetics</th>\n",
              "      <td>99.99</td>\n",
              "    </tr>\n",
              "  </tbody>\n",
              "</table>\n",
              "</div><br><label><b>dtype:</b> float64</label>"
            ]
          },
          "metadata": {},
          "execution_count": 5
        }
      ]
    }
  ]
}