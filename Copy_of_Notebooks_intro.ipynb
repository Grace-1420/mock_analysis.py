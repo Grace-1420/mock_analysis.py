{
  "nbformat": 4,
  "nbformat_minor": 0,
  "metadata": {
    "colab": {
      "provenance": [],
      "authorship_tag": "ABX9TyND8l6Peh9u8zQKbGEBSZkN",
      "include_colab_link": true
    },
    "kernelspec": {
      "name": "python3",
      "display_name": "Python 3"
    },
    "language_info": {
      "name": "python"
    }
  },
  "cells": [
    {
      "cell_type": "markdown",
      "metadata": {
        "id": "view-in-github",
        "colab_type": "text"
      },
      "source": [
        "<a href=\"https://colab.research.google.com/github/Grace-1420/mock_analysis.py/blob/main/Copy_of_Notebooks_intro.ipynb\" target=\"_parent\"><img src=\"https://colab.research.google.com/assets/colab-badge.svg\" alt=\"Open In Colab\"/></a>"
      ]
    },
    {
      "cell_type": "code",
      "execution_count": null,
      "metadata": {
        "id": "nRUPKS90VsVk"
      },
      "outputs": [],
      "source": []
    },
    {
      "cell_type": "code",
      "source": [
        "import matplotlib.pyplot as plt\n",
        "import seaborn as sns\n",
        "import numpy as np\n",
        "import pandas as pd\n",
        "\n",
        "from io import StringIO\n",
        "\n",
        "data = StringIO(\"\"\"\n",
        "Customer ID,Age,Gender,Purchase Amount (USD),Product Category,Purchase Date,Country,Payment Method\n",
        "C001,25,Female,120.50,Electronics,2024-11-01,USA,Credit Card\n",
        "C002,31,Male,75.00,Books,2024-11-02,Canada,PayPal\n",
        "C003,22,Female,300.20,Fashion,2024-11-03,USA,Debit Card\n",
        "C004,40,Male,450.00,Electronics,2024-11-05,UK,Credit Card\n",
        "C005,29,Female,99.99,Cosmetics,2024-11-06,Germany,PayPal\n",
        "C006,35,Male,149.90,Fashion,2024-11-07,Canada,Credit Card\n",
        "C007,27,Female,199.00,Electronics,2024-11-08,USA,PayPal\n",
        "C008,42,Male,85.75,Books,2024-11-09,France,Debit Card\n",
        "C009,30,Female,210.40,Fashion,2024-11-10,UK,Credit Card\n",
        "C010,50,Male,400.00,Electronics,2024-11-11,USA,Debit Card\n",
        "\"\"\")\n",
        "\n",
        "df = pd.read_csv(data)\n",
        "# df['Purchase Date'] = pd.to_datetime(df['Purchase Date'])  # convert date\n",
        "# df = df.rename(columns={\"Product Category\" : \"Category\"})\n",
        "# #print (df)\n",
        "# df['Gender'].value_counts().plot(kind='pie')\n",
        "# plt.title('PIE CHART OF GENDER DISTRIBUTION')\n",
        "# plt.savefig('PIE CHART OF GENDER DISTRIBUTION.png')\n",
        "# plt.show"
      ],
      "metadata": {
        "id": "82RqvR10G4Yx"
      },
      "execution_count": 1,
      "outputs": []
    },
    {
      "cell_type": "code",
      "source": [],
      "metadata": {
        "id": "YFmHe0pJVxe6"
      },
      "execution_count": null,
      "outputs": []
    }
  ]
}